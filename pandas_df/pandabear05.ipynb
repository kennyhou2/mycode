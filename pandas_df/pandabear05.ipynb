{
 "cells": [
  {
   "cell_type": "code",
   "execution_count": 1,
   "id": "a67991d7-964a-4ddb-9bb9-5498314f0a56",
   "metadata": {},
   "outputs": [],
   "source": [
    "import pandas as pd\n"
   ]
  },
  {
   "cell_type": "code",
   "execution_count": 2,
   "id": "a13bb206-0e16-479c-860a-74d5ea59c3d7",
   "metadata": {},
   "outputs": [
    {
     "name": "stderr",
     "output_type": "stream",
     "text": [
      "/tmp/ipykernel_10160/175430463.py:19: FutureWarning: As the xlwt package is no longer maintained, the xlwt engine will be removed in a future version of pandas. This is the only engine in pandas that supports writing in the xls format. Install openpyxl and write to an xlsx file instead. You can set the option io.excel.xls.writer to 'xlwt' to silence this warning. While this option is deprecated and will also raise a warning, it can be globally set and the warning suppressed.\n",
      "  ciscodf.to_excel(\"combined_ciscodata.xls\", index=False)\n"
     ]
    },
    {
     "data": {
      "text/plain": [
       "[{'device': 'ciscoios',\n",
       "  'serial': 'C8293-928F',\n",
       "  'ip': '192.168.70.1',\n",
       "  'region': 'northeast',\n",
       "  'firmware': 'v14.6'},\n",
       " {'device': 'ciscoiosxr',\n",
       "  'serial': 'A7392-123D',\n",
       "  'ip': '10.0.0.1',\n",
       "  'region': 'northeast',\n",
       "  'firmware': 'v1.2'},\n",
       " {'device': 'ciscoiosxe',\n",
       "  'serial': 'C8233-593A',\n",
       "  'ip': '172.6.2.11',\n",
       "  'region': 'southwest',\n",
       "  'firmware': 'v3.2'},\n",
       " {'device': 'cisconxos',\n",
       "  'serial': 'B1122-938A',\n",
       "  'ip': '172.4.2.11',\n",
       "  'region': 'south',\n",
       "  'firmware': 'v1.2'},\n",
       " {'device': 'ciscoios',\n",
       "  'serial': 'C2832-23dB',\n",
       "  'ip': '192.168.102.1',\n",
       "  'region': 'west',\n",
       "  'firmware': 'v14.6'},\n",
       " {'device': 'ciscoiosxr',\n",
       "  'serial': 'C9878-323F',\n",
       "  'ip': '10.3.3.1',\n",
       "  'region': 'west',\n",
       "  'firmware': 'v1.2'},\n",
       " {'device': 'ciscoiosxr',\n",
       "  'serial': 'C7673-664E',\n",
       "  'ip': '10.66.7.1',\n",
       "  'region': 'north',\n",
       "  'firmware': 'v1.2'}]"
      ]
     },
     "execution_count": 2,
     "metadata": {},
     "output_type": "execute_result"
    }
   ],
   "source": [
    "# create a dataframe ciscocsv\n",
    "ciscocsv = pd.read_csv(\"ciscodata.csv\")\n",
    "# create a dataframe ciscojson\n",
    "ciscojson = pd.read_json(\"ciscodata2.json\")\n",
    "\n",
    "# The line below concats and reapplies the index value\n",
    "ciscodf = pd.concat([ciscocsv, ciscojson], ignore_index=True, sort=False)\n",
    "\n",
    "## export to json\n",
    "## do not include index number\n",
    "ciscodf.to_json(\"combined_ciscodata.json\", orient=\"records\")\n",
    "\n",
    "## export to csv\n",
    "## do not include index number\n",
    "ciscodf.to_csv(\"combined_ciscodata.csv\", index=False)\n",
    "\n",
    "## export to Excel\n",
    "## do not include index number to xls\n",
    "ciscodf.to_excel(\"combined_ciscodata.xls\", index=False)\n",
    "## do not include index number to xlsx\n",
    "ciscodf.to_excel(\"combined_ciscodata.xlsx\", index=False)\n",
    "\n",
    "## create a python dictionary\n",
    "## do not include index number\n",
    "x = ciscodf.to_dict(orient='records')\n",
    "x\n"
   ]
  },
  {
   "cell_type": "code",
   "execution_count": 3,
   "id": "fac3364b-58a1-429c-b249-4751a0359a40",
   "metadata": {},
   "outputs": [],
   "source": [
    "#!/usr/bin/python3\n",
    "\"\"\"Alta3 Research | RZFeeser@alta3.com\n",
    "   Challenge Solution 01 - JSON to CSV\"\"\"\n",
    "\n",
    "import pandas\n",
    "\n",
    "# create a dataframe from json\n",
    "df = pandas.read_json(\"5movies.json\")\n",
    "\n",
    "# writeout dataframe to CSV\n",
    "df.to_csv(\"5movies-translated-from-json.csv\")\n"
   ]
  },
  {
   "cell_type": "code",
   "execution_count": 4,
   "id": "9b499ccd-eed9-448a-8b17-99c836e22787",
   "metadata": {},
   "outputs": [],
   "source": [
    "#!/usr/bin/python3\n",
    "\"\"\"Alta3 Research | RZFeeser@alta3.com\n",
    "   Challenge Solution 01 - CSV to Excel\"\"\"\n",
    "\n",
    "import pandas\n",
    "\n",
    "# create a dataframe from csv\n",
    "df = pandas.read_csv(\"5movies.csv\")\n",
    "\n",
    "# writeout dataframe to excel\n",
    "df.to_excel(\"5movies-translated-from-json.xlsx\")\n"
   ]
  },
  {
   "cell_type": "code",
   "execution_count": 5,
   "id": "24c88449-24b6-4560-9caa-2a821d548c47",
   "metadata": {},
   "outputs": [],
   "source": [
    "#!/usr/bin/python3\n",
    "\"\"\"Alta3 Research | RZFeeser@alta3.com\n",
    "   Challenge Solution 01 - JSON to Excel\"\"\"\n",
    "\n",
    "import pandas\n",
    "\n",
    "# create a dataframe from json\n",
    "df = pandas.read_json(\"5movies.json\")\n",
    "\n",
    "# writeout dataframe to excel\n",
    "df.to_excel(\"5movies-translated-from-json.xlsx\")\n"
   ]
  },
  {
   "cell_type": "code",
   "execution_count": null,
   "id": "2c89aa02-5852-4044-80fa-101bad783392",
   "metadata": {},
   "outputs": [],
   "source": []
  }
 ],
 "metadata": {
  "kernelspec": {
   "display_name": "Python 3 (ipykernel)",
   "language": "python",
   "name": "python3"
  },
  "language_info": {
   "codemirror_mode": {
    "name": "ipython",
    "version": 3
   },
   "file_extension": ".py",
   "mimetype": "text/x-python",
   "name": "python",
   "nbconvert_exporter": "python",
   "pygments_lexer": "ipython3",
   "version": "3.10.6"
  }
 },
 "nbformat": 4,
 "nbformat_minor": 5
}
