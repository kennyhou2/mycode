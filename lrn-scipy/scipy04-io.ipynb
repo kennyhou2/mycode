{
 "cells": [
  {
   "cell_type": "code",
   "execution_count": null,
   "id": "60b12a16-bb4f-4533-90dd-7c78b32954c4",
   "metadata": {},
   "outputs": [],
   "source": []
  }
 ],
 "metadata": {
  "kernelspec": {
   "display_name": "",
   "name": ""
  },
  "language_info": {
   "name": ""
  }
 },
 "nbformat": 4,
 "nbformat_minor": 5
}
